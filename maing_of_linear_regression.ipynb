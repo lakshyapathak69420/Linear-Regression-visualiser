{
 "cells": [
  {
   "cell_type": "code",
   "execution_count": 2,
   "metadata": {},
   "outputs": [],
   "source": [
    "import numpy as np\n",
    "import pandas as pd\n",
    "import matplotlib.pyplot as plt\n",
    "import seaborn as sns\n"
   ]
  },
  {
   "cell_type": "code",
   "execution_count": 3,
   "metadata": {},
   "outputs": [
    {
     "name": "stdout",
     "output_type": "stream",
     "text": [
      "features\n",
      " [ 52  93  15  72  61  21  83  87  75  75  88 100  24   3  22  53   2  88\n",
      "  30  38]\n"
     ]
    }
   ],
   "source": [
    "np.random.seed(42)\n",
    "x = np.random.randint(1, 101, size=20)\n",
    "print(f\"features\\n {x}\")\n",
    "m = 1.5"
   ]
  },
  {
   "cell_type": "code",
   "execution_count": 4,
   "metadata": {},
   "outputs": [
    {
     "name": "stdout",
     "output_type": "stream",
     "text": [
      "20\n"
     ]
    }
   ],
   "source": [
    "print(len(x))"
   ]
  },
  {
   "cell_type": "code",
   "execution_count": 5,
   "metadata": {},
   "outputs": [],
   "source": [
    "y_ = [0] * 20\n",
    "\n",
    "for i in range(len(x)):\n",
    "    np.random.seed(i)\n",
    "    b = np.random.randint(-25, 25) \n",
    "    \n",
    "    y_[i] = m*x[i] + b\n",
    "    y_[i] = y_[i].astype(int)"
   ]
  },
  {
   "cell_type": "code",
   "execution_count": 6,
   "metadata": {},
   "outputs": [
    {
     "name": "stdout",
     "output_type": "stream",
     "text": [
      "labels [np.int64(97), np.int64(151), np.int64(37), np.int64(125), np.int64(112), np.int64(41), np.int64(109), np.int64(152), np.int64(90), np.int64(115), np.int64(116), np.int64(150), np.int64(22), np.int64(-2), np.int64(51), np.int64(62), np.int64(19), np.int64(154), np.int64(62), np.int64(61)]\n"
     ]
    }
   ],
   "source": [
    "print(f\"labels {y_}\")"
   ]
  },
  {
   "cell_type": "code",
   "execution_count": 7,
   "metadata": {},
   "outputs": [
    {
     "name": "stdout",
     "output_type": "stream",
     "text": [
      "[np.int64(97), np.int64(151), np.int64(37), np.int64(125), np.int64(112), np.int64(41), np.int64(109), np.int64(152), np.int64(90), np.int64(115), np.int64(116), np.int64(150), np.int64(22), np.int64(-2), np.int64(51), np.int64(62), np.int64(19), np.int64(154), np.int64(62), np.int64(61)]\n"
     ]
    }
   ],
   "source": [
    "y =  list(y_)\n",
    "print(y)"
   ]
  },
  {
   "cell_type": "code",
   "execution_count": 8,
   "metadata": {},
   "outputs": [],
   "source": [
    "data = [y , x]\n",
    "df = pd.DataFrame(data)"
   ]
  },
  {
   "cell_type": "code",
   "execution_count": 9,
   "metadata": {},
   "outputs": [],
   "source": [
    "df = df.T"
   ]
  },
  {
   "cell_type": "code",
   "execution_count": 10,
   "metadata": {},
   "outputs": [
    {
     "data": {
      "text/html": [
       "<div>\n",
       "<style scoped>\n",
       "    .dataframe tbody tr th:only-of-type {\n",
       "        vertical-align: middle;\n",
       "    }\n",
       "\n",
       "    .dataframe tbody tr th {\n",
       "        vertical-align: top;\n",
       "    }\n",
       "\n",
       "    .dataframe thead th {\n",
       "        text-align: right;\n",
       "    }\n",
       "</style>\n",
       "<table border=\"1\" class=\"dataframe\">\n",
       "  <thead>\n",
       "    <tr style=\"text-align: right;\">\n",
       "      <th></th>\n",
       "      <th>0</th>\n",
       "      <th>1</th>\n",
       "    </tr>\n",
       "  </thead>\n",
       "  <tbody>\n",
       "    <tr>\n",
       "      <th>0</th>\n",
       "      <td>97</td>\n",
       "      <td>52</td>\n",
       "    </tr>\n",
       "    <tr>\n",
       "      <th>1</th>\n",
       "      <td>151</td>\n",
       "      <td>93</td>\n",
       "    </tr>\n",
       "    <tr>\n",
       "      <th>2</th>\n",
       "      <td>37</td>\n",
       "      <td>15</td>\n",
       "    </tr>\n",
       "    <tr>\n",
       "      <th>3</th>\n",
       "      <td>125</td>\n",
       "      <td>72</td>\n",
       "    </tr>\n",
       "    <tr>\n",
       "      <th>4</th>\n",
       "      <td>112</td>\n",
       "      <td>61</td>\n",
       "    </tr>\n",
       "    <tr>\n",
       "      <th>5</th>\n",
       "      <td>41</td>\n",
       "      <td>21</td>\n",
       "    </tr>\n",
       "    <tr>\n",
       "      <th>6</th>\n",
       "      <td>109</td>\n",
       "      <td>83</td>\n",
       "    </tr>\n",
       "    <tr>\n",
       "      <th>7</th>\n",
       "      <td>152</td>\n",
       "      <td>87</td>\n",
       "    </tr>\n",
       "    <tr>\n",
       "      <th>8</th>\n",
       "      <td>90</td>\n",
       "      <td>75</td>\n",
       "    </tr>\n",
       "    <tr>\n",
       "      <th>9</th>\n",
       "      <td>115</td>\n",
       "      <td>75</td>\n",
       "    </tr>\n",
       "    <tr>\n",
       "      <th>10</th>\n",
       "      <td>116</td>\n",
       "      <td>88</td>\n",
       "    </tr>\n",
       "    <tr>\n",
       "      <th>11</th>\n",
       "      <td>150</td>\n",
       "      <td>100</td>\n",
       "    </tr>\n",
       "    <tr>\n",
       "      <th>12</th>\n",
       "      <td>22</td>\n",
       "      <td>24</td>\n",
       "    </tr>\n",
       "    <tr>\n",
       "      <th>13</th>\n",
       "      <td>-2</td>\n",
       "      <td>3</td>\n",
       "    </tr>\n",
       "    <tr>\n",
       "      <th>14</th>\n",
       "      <td>51</td>\n",
       "      <td>22</td>\n",
       "    </tr>\n",
       "    <tr>\n",
       "      <th>15</th>\n",
       "      <td>62</td>\n",
       "      <td>53</td>\n",
       "    </tr>\n",
       "    <tr>\n",
       "      <th>16</th>\n",
       "      <td>19</td>\n",
       "      <td>2</td>\n",
       "    </tr>\n",
       "    <tr>\n",
       "      <th>17</th>\n",
       "      <td>154</td>\n",
       "      <td>88</td>\n",
       "    </tr>\n",
       "    <tr>\n",
       "      <th>18</th>\n",
       "      <td>62</td>\n",
       "      <td>30</td>\n",
       "    </tr>\n",
       "    <tr>\n",
       "      <th>19</th>\n",
       "      <td>61</td>\n",
       "      <td>38</td>\n",
       "    </tr>\n",
       "  </tbody>\n",
       "</table>\n",
       "</div>"
      ],
      "text/plain": [
       "      0    1\n",
       "0    97   52\n",
       "1   151   93\n",
       "2    37   15\n",
       "3   125   72\n",
       "4   112   61\n",
       "5    41   21\n",
       "6   109   83\n",
       "7   152   87\n",
       "8    90   75\n",
       "9   115   75\n",
       "10  116   88\n",
       "11  150  100\n",
       "12   22   24\n",
       "13   -2    3\n",
       "14   51   22\n",
       "15   62   53\n",
       "16   19    2\n",
       "17  154   88\n",
       "18   62   30\n",
       "19   61   38"
      ]
     },
     "execution_count": 10,
     "metadata": {},
     "output_type": "execute_result"
    }
   ],
   "source": [
    "df"
   ]
  },
  {
   "cell_type": "code",
   "execution_count": 11,
   "metadata": {},
   "outputs": [],
   "source": [
    "df.rename(columns={0 : \"x\", 1 : \"y\"} , inplace=True)"
   ]
  },
  {
   "cell_type": "code",
   "execution_count": 12,
   "metadata": {},
   "outputs": [
    {
     "data": {
      "image/png": "[encoded data removed]",
      "text/plain": [
       "<Figure size 640x480 with 1 Axes>"
      ]
     },
     "metadata": {},
     "output_type": "display_data"
    }
   ],
   "source": [
    "sns.scatterplot(x = x , y = y , data=df);"
   ]
  },
  {
   "cell_type": "code",
   "execution_count": 13,
   "metadata": {},
   "outputs": [],
   "source": [
    "class linear_regression:\n",
    "    '''\n",
    "    writing linear regression for data with single feature (only x)\n",
    "    m -> weight \n",
    "    c -> bais\n",
    "    alpha -> learning rate\n",
    "    number_of_iteration -> number of iteration for gradient descent to run\n",
    "    output -> prediction made by algorithms\n",
    "    '''\n",
    "    def __init__(self, alpha = 0.01, number_of_interation = 100):\n",
    "        self.m = 0 # weight for the linear regression or the slope of the line\n",
    "        self.c = 0 # baises fot  the linear regression or the intercept\n",
    "        self.alpha = alpha\n",
    "        self.number_of_iteration = number_of_interation\n",
    "\n",
    "    def fit(self, x , y):\n",
    "            _x = list(x)\n",
    "            _y = list(y)\n",
    "            # optimising the weights and baises\n",
    "            \n",
    "            for _ in range(self.number_of_iteration):\n",
    "                __sum__ = 0\n",
    "                \n",
    "                # calculating the gradient that sum over all values of (signed error)*the_value for \"b\"\n",
    "                for j in range(len(y)):\n",
    "                    __signed_error__ = (self.m *_x[j] + self.c - _y[j])\n",
    "                    __sum__ = __sum__ + __signed_error__ * _x[j]\n",
    "                \n",
    "                self.m = self.m - self.alpha * __sum__\n",
    "            \n",
    "            for _ in range(self.number_of_iteration):\n",
    "                __sum__ = 0\n",
    "                # calculating the gradient that sum over all values of (signed error)*the_value for \"c\"\n",
    "                for j in range(len(y)):\n",
    "                    __signed_error__ = (self.m *_x[j] + self.c - _y[j])\n",
    "                    __sum__ = __sum__ + __signed_error__\n",
    "                \n",
    "                self.c = self.c - self.alpha * __sum__\n",
    "            \n",
    "\n",
    "    def predict(self , x):\n",
    "        _x = list(x)\n",
    "        output = []\n",
    "        for i in range(len(x)):\n",
    "            h = self.m * _x[i] + self.c\n",
    "            output.append(h)\n",
    "            \n",
    "        return output\n",
    "         \n",
    "         \n"
   ]
  },
  {
   "cell_type": "code",
   "execution_count": 14,
   "metadata": {},
   "outputs": [],
   "source": [
    "from sklearn.preprocessing import StandardScaler\n",
    "x1 = df.iloc[: , 0:2]\n",
    "scaling_object = StandardScaler()\n",
    "x2 = scaling_object.fit_transform(x1)"
   ]
  },
  {
   "cell_type": "code",
   "execution_count": null,
   "metadata": {},
   "outputs": [],
   "source": [
    "df1 = pd.DataFrame(x2 , columns=[\"x\" , \"y\"])"
   ]
  },
  {
   "cell_type": "code",
   "execution_count": 16,
   "metadata": {},
   "outputs": [
    {
     "data": {
      "image/png": "[encoded data removed]",
      "text/plain": [
       "<Figure size 640x480 with 1 Axes>"
      ]
     },
     "metadata": {},
     "output_type": "display_data"
    }
   ],
   "source": [
    "sns.scatterplot(x = df1[\"x\"] , y=df[\"y\"]);\n"
   ]
  },
  {
   "cell_type": "code",
   "execution_count": 17,
   "metadata": {},
   "outputs": [],
   "source": [
    "from sklearn.model_selection import train_test_split"
   ]
  },
  {
   "cell_type": "code",
   "execution_count": 18,
   "metadata": {},
   "outputs": [],
   "source": [
    "x_train , x_test , y_train , y_test = train_test_split(df1['x'] , df1[\"y\"] ,test_size=0.2 , random_state=42)"
   ]
  },
  {
   "cell_type": "code",
   "execution_count": 19,
   "metadata": {},
   "outputs": [],
   "source": [
    "model = linear_regression(number_of_interation=5000 , alpha=0.09)"
   ]
  },
  {
   "cell_type": "code",
   "execution_count": 20,
   "metadata": {},
   "outputs": [],
   "source": [
    "model.fit(x_train , y_train)\n"
   ]
  },
  {
   "cell_type": "code",
   "execution_count": 21,
   "metadata": {},
   "outputs": [],
   "source": [
    "prediction = model.predict(x_test)"
   ]
  },
  {
   "cell_type": "code",
   "execution_count": 22,
   "metadata": {},
   "outputs": [
    {
     "data": {
      "text/plain": [
       "[0.24334673752325667,\n",
       " 1.435082785217606,\n",
       " -0.48842101106099295,\n",
       " 1.3723598353389561]"
      ]
     },
     "execution_count": 22,
     "metadata": {},
     "output_type": "execute_result"
    }
   ],
   "source": [
    "prediction"
   ]
  },
  {
   "cell_type": "code",
   "execution_count": 23,
   "metadata": {},
   "outputs": [
    {
     "data": {
      "text/plain": [
       "0    -0.066726\n",
       "17    1.077146\n",
       "15   -0.034952\n",
       "1     1.236017\n",
       "Name: y, dtype: float64"
      ]
     },
     "execution_count": 23,
     "metadata": {},
     "output_type": "execute_result"
    }
   ],
   "source": [
    "y_test"
   ]
  },
  {
   "cell_type": "code",
   "execution_count": 24,
   "metadata": {},
   "outputs": [
    {
     "name": "stdout",
     "output_type": "stream",
     "text": [
      "MSE: 0.11212184375164777\n",
      "RMSE: 0.3348460000532301\n",
      "MAE: 0.31445527215149616\n",
      "R-squared: 0.6951116952160066\n"
     ]
    }
   ],
   "source": [
    "from sklearn.metrics import mean_squared_error, mean_absolute_error, r2_score\n",
    "\n",
    "predictions = np.array(prediction)\n",
    "\n",
    "\n",
    "y_test = np.array(y_test) \n",
    "\n",
    "mse = mean_squared_error(y_test, prediction)\n",
    "rmse = np.sqrt(mse)\n",
    "mae = mean_absolute_error(y_test, prediction)\n",
    "r2 = r2_score(y_test, prediction)\n",
    "\n",
    "print(f\"MSE: {mse}\")\n",
    "print(f\"RMSE: {rmse}\")\n",
    "print(f\"MAE: {mae}\")\n",
    "print(f\"R-squared: {r2}\")\n"
   ]
  },
  {
   "cell_type": "code",
   "execution_count": 25,
   "metadata": {},
   "outputs": [],
   "source": [
    "m = model.m\n",
    "c = model.c"
   ]
  },
  {
   "cell_type": "code",
   "execution_count": 26,
   "metadata": {},
   "outputs": [],
   "source": [
    "y_line = m*df1[\"x\"] + c"
   ]
  },
  {
   "cell_type": "code",
   "execution_count": 27,
   "metadata": {},
   "outputs": [
    {
     "data": {
      "image/png": "[encoded data removed]",
      "text/plain": [
       "<Figure size 640x480 with 1 Axes>"
      ]
     },
     "metadata": {},
     "output_type": "display_data"
    }
   ],
   "source": [
    "sns.scatterplot(x = df1[\"x\"], y=df1[\"y\"])\n",
    "sns.lineplot(x = df1[\"x\"] , y = y_line , color =\"red\");"
   ]
  },
  {
   "cell_type": "code",
   "execution_count": null,
   "metadata": {},
   "outputs": [],
   "source": []
  }
 ],
 "metadata": {
  "kernelspec": {
   "display_name": "Python 3",
   "language": "python",
   "name": "python3"
  },
  "language_info": {
   "codemirror_mode": {
    "name": "ipython",
    "version": 3
   },
   "file_extension": ".py",
   "mimetype": "text/x-python",
   "name": "python",
   "nbconvert_exporter": "python",
   "pygments_lexer": "ipython3",
   "version": "3.13.0"
  }
 },
 "nbformat": 4,
 "nbformat_minor": 2
}
